{
 "cells": [
  {
   "cell_type": "code",
   "execution_count": 118,
   "metadata": {},
   "outputs": [],
   "source": [
    "import numpy as np\n",
    "import pandas as pd\n",
    "from solve_additive import *\n",
    "import matplotlib.pyplot as plt"
   ]
  },
  {
   "cell_type": "code",
   "execution_count": 2,
   "metadata": {},
   "outputs": [],
   "source": [
    "data = np.loadtxt('input_lab2.csv')"
   ]
  },
  {
   "cell_type": "code",
   "execution_count": 3,
   "metadata": {},
   "outputs": [
    {
     "data": {
      "text/plain": [
       "(45, 11)"
      ]
     },
     "execution_count": 3,
     "metadata": {},
     "output_type": "execute_result"
    }
   ],
   "source": [
    "data.shape"
   ]
  },
  {
   "cell_type": "code",
   "execution_count": 4,
   "metadata": {},
   "outputs": [],
   "source": [
    "n1, n2, n3, m = 2, 2, 3, 4\n",
    "P1, P2, P3 = 13, 11, 7\n",
    "\n",
    "params = {\n",
    "    'dimensions': [n1, n2, n3, m],\n",
    "    'input_file': data,\n",
    "    'output_file': 'test.xlsx',\n",
    "    'degrees': [P1, P2, P3],\n",
    "    'weights': 'Нормоване значення',\n",
    "    'poly_type': 'Чебишова',\n",
    "    'lambda_multiblock': False\n",
    "}\n",
    "\n",
    "solver = Solve(params)\n",
    "func_runtimes = solver.prepare()"
   ]
  },
  {
   "cell_type": "code",
   "execution_count": 171,
   "metadata": {},
   "outputs": [],
   "source": [
    "class Predictor:\n",
    "    def __init__(self, solver):\n",
    "        self.solver = solver\n",
    "        psi = list()\n",
    "        for i in range(self.solver.Y.shape[1]):  # `i` is an index for Y\n",
    "            psi_i = list()\n",
    "            shift = 0\n",
    "            for j in range(3):  # `j` is an index to choose vector from X\n",
    "                psi_i_j = list()\n",
    "                for k in range(self.solver.dim[j]):  # `k` is an index for vector component\n",
    "                    psi_i_j_k = self.solver.Lamb[shift:shift + self.solver.deg[j], i].ravel()\n",
    "                    shift += self.solver.deg[j]\n",
    "                    psi_i_j.append(psi_i_j_k)\n",
    "                psi_i.append(psi_i_j)\n",
    "            psi.append(psi_i)\n",
    "\n",
    "        self.psi = psi\n",
    "        self.a = solver.a.T.tolist()\n",
    "        self.c = solver.c.T.tolist()\n",
    "        self.X_min = self.solver.datas[:, :-self.solver.Y.shape[1]].min(axis=0)\n",
    "        self.X_max = self.solver.datas[:, :-self.solver.Y.shape[1]].max(axis=0)\n",
    "        self.Y_min, self.Y_max = solver.Y_.min(axis=0), solver.Y_.max(axis=0)\n",
    "\n",
    "    def predict(self, X):\n",
    "        Y = np.zeros((len(X), solver.Y.shape[1]))\n",
    "        X_norm = (X - self.X_min) / (self.X_max - self.X_min)\n",
    "\n",
    "        def evalF(x, i):\n",
    "            res = 0\n",
    "            for j in range(3):\n",
    "                for k in range(len(self.psi[i][j])):\n",
    "                    shift = sum(self.solver.dim[:j]) + k\n",
    "                    for n in range(len(self.psi[i][j][k])):\n",
    "                        coef = self.c[i][j] * self.a[i][shift] * self.psi[i][j][k][n]\n",
    "                        res += coef * solver.poly_f(n, x[:, shift])\n",
    "            return res\n",
    "\n",
    "        res = np.array([evalF(X_norm, i) for i in range(Y.shape[1])]).T\n",
    "        return res * (self.Y_max - self.Y_min) + self.Y_min\n",
    "    "
   ]
  },
  {
   "cell_type": "code",
   "execution_count": 173,
   "metadata": {},
   "outputs": [
    {
     "data": {
      "text/plain": [
       "[<matplotlib.lines.Line2D at 0x28147e3a820>,\n",
       " <matplotlib.lines.Line2D at 0x28147e3a850>,\n",
       " <matplotlib.lines.Line2D at 0x28147e3a910>,\n",
       " <matplotlib.lines.Line2D at 0x28147e3a9d0>]"
      ]
     },
     "execution_count": 173,
     "metadata": {},
     "output_type": "execute_result"
    },
    {
     "data": {
      "image/png": "[encoded data removed]",
      "text/plain": [
       "<Figure size 432x288 with 1 Axes>"
      ]
     },
     "metadata": {
      "needs_background": "light"
     },
     "output_type": "display_data"
    }
   ],
   "source": [
    "pred = Predictor(solver)\n",
    "plt.plot(pred.predict(data[:, :n1+n2+n3]))"
   ]
  },
  {
   "cell_type": "code",
   "execution_count": null,
   "metadata": {},
   "outputs": [],
   "source": []
  }
 ],
 "metadata": {
  "interpreter": {
   "hash": "fd618e2f21e38c3489c4afc507039bbdaa55822f5f77efff564552ebb3a7372f"
  },
  "kernelspec": {
   "display_name": "Python 3.9.1 64-bit",
   "language": "python",
   "name": "python3"
  },
  "language_info": {
   "codemirror_mode": {
    "name": "ipython",
    "version": 3
   },
   "file_extension": ".py",
   "mimetype": "text/x-python",
   "name": "python",
   "nbconvert_exporter": "python",
   "pygments_lexer": "ipython3",
   "version": "3.9.1"
  },
  "orig_nbformat": 4
 },
 "nbformat": 4,
 "nbformat_minor": 2
}
